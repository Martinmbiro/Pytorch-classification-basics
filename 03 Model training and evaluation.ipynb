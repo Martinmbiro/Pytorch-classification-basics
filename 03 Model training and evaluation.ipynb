{
  "nbformat": 4,
  "nbformat_minor": 0,
  "metadata": {
    "colab": {
      "provenance": [],
      "toc_visible": true,
      "gpuType": "T4",
      "authorship_tag": "ABX9TyP/yqSPglgtFcNCTqc/cPEf",
      "include_colab_link": true
    },
    "kernelspec": {
      "name": "python3",
      "display_name": "Python 3"
    },
    "language_info": {
      "name": "python"
    },
    "accelerator": "GPU"
  },
  "cells": [
    {
      "cell_type": "markdown",
      "metadata": {
        "id": "view-in-github",
        "colab_type": "text"
      },
      "source": [
        "<a href=\"https://colab.research.google.com/github/Martinmbiro/Pytorch-classification-basics/blob/main/03%20Model%20training%20and%20evaluation.ipynb\" target=\"_parent\"><img src=\"https://colab.research.google.com/assets/colab-badge.svg\" alt=\"Open In Colab\"/></a>"
      ]
    },
    {
      "cell_type": "markdown",
      "source": [
        "# **Putting it all together**\n",
        "> In this notebook, we'll build on the previous notebooks and fit the model to the data. That said, we'll follow the basic PyTorch workflow\n",
        "\n",
        "> 🔔 **Recall**  \n",
        "+ This is a _multi-class_ classification problem as we're trying to predict one of 3 species of Iris flowers"
      ],
      "metadata": {
        "id": "HlsFvJFu2ZVw"
      }
    },
    {
      "cell_type": "code",
      "execution_count": 3,
      "metadata": {
        "id": "TanFSskJ2OxO"
      },
      "outputs": [],
      "source": [
        "# import modules\n",
        "import torch, matplotlib.pyplot as plt, torch.nn as nn, numpy as np\n",
        "import torch.nn.functional as F\n",
        "# specify stylesheet\n",
        "plt.style.use('fast')\n",
        "\n",
        "# for type hinting\n",
        "from typing import Tuple"
      ]
    },
    {
      "cell_type": "code",
      "source": [
        "# set up device\n",
        "if torch.cuda.is_available():\n",
        "  device = 'cuda'\n",
        "elif torch.backends.mps.is_available():\n",
        "  device = 'mps'\n",
        "else:\n",
        "  device = 'cpu'"
      ],
      "metadata": {
        "id": "En-3ryMU3lPB"
      },
      "execution_count": 4,
      "outputs": []
    },
    {
      "cell_type": "code",
      "source": [
        "# device\n",
        "device"
      ],
      "metadata": {
        "colab": {
          "base_uri": "https://localhost:8080/",
          "height": 35
        },
        "id": "QTVIi-Sz3z5I",
        "outputId": "710c0c5a-4ce4-4b1c-dde5-0eeec39c9aca"
      },
      "execution_count": 5,
      "outputs": [
        {
          "output_type": "execute_result",
          "data": {
            "text/plain": [
              "'cuda'"
            ],
            "application/vnd.google.colaboratory.intrinsic+json": {
              "type": "string"
            }
          },
          "metadata": {},
          "execution_count": 5
        }
      ]
    },
    {
      "cell_type": "markdown",
      "source": [
        "### Loading the data\n",
        "> I'll use the function we defined in the previous notebook"
      ],
      "metadata": {
        "id": "IbtMmpnZ36MV"
      }
    },
    {
      "cell_type": "code",
      "source": [
        "# define function to load dataset\n",
        "def load_dataset() -> Tuple[np.ndarray, np.ndarray, np.ndarray]:\n",
        "  # make necessary imports\n",
        "  from sklearn import datasets\n",
        "  # for data preprocessing\n",
        "  from sklearn.preprocessing import MinMaxScaler\n",
        "  from sklearn.impute import SimpleImputer\n",
        "  from sklearn.pipeline import make_pipeline\n",
        "\n",
        "  # load the dataset\n",
        "  iris = datasets.load_iris()\n",
        "\n",
        "  # make pipeline for preprocessing the features\n",
        "  preprocessor = make_pipeline(\n",
        "      SimpleImputer(strategy='median'), # handle missing values (if any)\n",
        "      MinMaxScaler() # scale data from 0 -> 1\n",
        "  )\n",
        "\n",
        "  # preprocess the features\n",
        "  X = preprocessor.fit_transform(iris.data)\n",
        "  # get labels\n",
        "  y = iris.target\n",
        "\n",
        "  # return X, y, target_names\n",
        "  return X, y, iris.target_names"
      ],
      "metadata": {
        "id": "UxIxqBre389X"
      },
      "execution_count": 6,
      "outputs": []
    },
    {
      "cell_type": "code",
      "source": [
        "# load data\n",
        "X, y, target_names = load_dataset()"
      ],
      "metadata": {
        "id": "oSf7QfGY4OVy"
      },
      "execution_count": 7,
      "outputs": []
    },
    {
      "cell_type": "code",
      "source": [
        "# check datatype returned\n",
        "type(X), type(y)"
      ],
      "metadata": {
        "colab": {
          "base_uri": "https://localhost:8080/"
        },
        "id": "fAq87N4J53b9",
        "outputId": "becb44a2-593e-4fe7-c11a-816a8da95ce9"
      },
      "execution_count": 8,
      "outputs": [
        {
          "output_type": "execute_result",
          "data": {
            "text/plain": [
              "(numpy.ndarray, numpy.ndarray)"
            ]
          },
          "metadata": {},
          "execution_count": 8
        }
      ]
    },
    {
      "cell_type": "markdown",
      "source": [
        "#### Convert data into [`torch.Tensor`](https://pytorch.org/docs/stable/tensors.html#torch-tensor)\n",
        "> 🔔 **Recall**\n",
        "+ Recall that the `load_dataset()` function returns `X` and `y` as Numpy's [`ndarray`](https://numpy.org/doc/stable/reference/generated/numpy.ndarray.html#numpy.ndarray)\n",
        "+ We'll have to change them to [`torch.Tensor`](https://pytorch.org/docs/stable/tensors.html#torch-tensor)"
      ],
      "metadata": {
        "id": "YW0OTRYl4uZn"
      }
    },
    {
      "cell_type": "code",
      "source": [
        "# convert X and y to Pytorch tensors\n",
        "X = torch.from_numpy(X).to(dtype=torch.float32)\n",
        "y = torch.from_numpy(y).long()\n",
        "\n",
        "# confirm type and dtype\n",
        "type(X), type(y), X.dtype, y.dtype"
      ],
      "metadata": {
        "colab": {
          "base_uri": "https://localhost:8080/"
        },
        "id": "KGxK5lja5CT6",
        "outputId": "cf949bcc-2c68-4f61-d550-dcd3208cf79b"
      },
      "execution_count": 9,
      "outputs": [
        {
          "output_type": "execute_result",
          "data": {
            "text/plain": [
              "(torch.Tensor, torch.Tensor, torch.float32, torch.int64)"
            ]
          },
          "metadata": {},
          "execution_count": 9
        }
      ]
    },
    {
      "cell_type": "markdown",
      "source": [
        "#### Split data into training and test sets\n",
        "> For this, we'll use [`sklearn's`](https://scikit-learn.org/stable/index.html) [`train_test_split`](https://scikit-learn.org/stable/modules/generated/sklearn.model_selection.train_test_split.html)"
      ],
      "metadata": {
        "id": "gNOraraE6rKP"
      }
    },
    {
      "cell_type": "code",
      "source": [
        "from sklearn.model_selection import train_test_split\n",
        "\n",
        "# split\n",
        "X_train, X_test, y_train, y_test = train_test_split(X, y,\n",
        "                                test_size=0.2, random_state=42,\n",
        "                                # split in a stratified fashion with ref. to y\n",
        "                                stratify=y)\n",
        "\n",
        "# view shapes\n",
        "X_train.shape, y_train.shape, X_test.shape, y_test.shape"
      ],
      "metadata": {
        "colab": {
          "base_uri": "https://localhost:8080/"
        },
        "id": "WxjQ_KaP7Egn",
        "outputId": "9d1c6c65-fc25-41f6-dc8f-ae877ab60284"
      },
      "execution_count": 10,
      "outputs": [
        {
          "output_type": "execute_result",
          "data": {
            "text/plain": [
              "(torch.Size([120, 4]),\n",
              " torch.Size([120]),\n",
              " torch.Size([30, 4]),\n",
              " torch.Size([30]))"
            ]
          },
          "metadata": {},
          "execution_count": 10
        }
      ]
    },
    {
      "cell_type": "markdown",
      "source": [
        "### Specifying `Dataset` and `Dataloader`\n",
        "> ✋ **Info**\n",
        "+ [`torch.utils.data.TensorDataset`](https://pytorch.org/docs/stable/data.html#torch.utils.data.TensorDataset) is a utility from [`torch.utils.data`](https://pytorch.org/docs/stable/data.html#module-torch.utils.data) module that allows for creation of datasets from multiple [`Tensors`](https://pytorch.org/docs/stable/tensors.html)\n",
        "+ [`torch.utils.data.DataLoader`](https://pytorch.org/docs/stable/data.html#torch.utils.data.DataLoader) combines a dataset and a sampler, and provides an iterable over the given dataset\n",
        "+ The `batch_size` specified in the `DataLoader` refers to the number of data points considered to calculate the loss value or update weights"
      ],
      "metadata": {
        "id": "Ks8WLskb71Rr"
      }
    },
    {
      "cell_type": "code",
      "source": [
        "from torch.utils.data import TensorDataset, DataLoader\n",
        "BATCH_SIZE = 16\n",
        "\n",
        "# TensordataSets for training and testing\n",
        "train_set = TensorDataset(X_train.to(device), y_train.to(device))\n",
        "test_set = TensorDataset(X_test.to(device), y_test.to(device))\n",
        "\n",
        "# DataLoaders for training and testing\n",
        "train_loader = DataLoader(dataset=train_set, shuffle=True,\n",
        "                          batch_size=BATCH_SIZE)\n",
        "test_loader = DataLoader(dataset=test_set, shuffle=False,\n",
        "                          batch_size=BATCH_SIZE)"
      ],
      "metadata": {
        "id": "bXDLBrCS77x0"
      },
      "execution_count": 11,
      "outputs": []
    },
    {
      "cell_type": "markdown",
      "source": [
        "### Build a neural network\n",
        "> ✋ **Info**  \n",
        "\n",
        "> For the Neural Network,\n",
        "+ We'll stack [`nn.Linear`](https://pytorch.org/docs/stable/generated/torch.nn.Linear.html#linear) with [`nn.Sequential`](https://pytorch.org/docs/stable/generated/torch.nn.Sequential.html#torch.nn.Sequential) such that we'll end up with two _hidden layers_ between the _input_ and _output layers._\n",
        "+ The hidden layers will have `8` neurons\n",
        "+ [`nn.Relu`](https://pytorch.org/docs/stable/generated/torch.nn.ReLU.html#torch.nn.ReLU) activation function will be used to introduce non-linearity\n",
        "+ Since this is a multi-class classification task (we have `3` distinct classes) , the output layer will have `3` neurons"
      ],
      "metadata": {
        "id": "QQcaKrz62d4-"
      }
    },
    {
      "cell_type": "code",
      "source": [
        "# define a function to return a model\n",
        "def get_model(device):\n",
        "  torch.manual_seed(42)\n",
        "\n",
        "  # stacking the layers\n",
        "  model = nn.Sequential(\n",
        "      nn.Linear(in_features=X_train.shape[1], out_features=8), # input to layer 1\n",
        "      nn.ReLU(),\n",
        "      nn.Linear(8, 8), # hidden layer 1 -> hidden layer 2\n",
        "      nn.ReLU(),\n",
        "      nn.Linear(8, 3), # hidden layer 2 -> output layer\n",
        "  ).to(device)\n",
        "  return model"
      ],
      "metadata": {
        "id": "iHJRHoyB2yKg"
      },
      "execution_count": 35,
      "outputs": []
    },
    {
      "cell_type": "code",
      "source": [
        "# get a model\n",
        "model = get_model()"
      ],
      "metadata": {
        "id": "M4JheiJnJ8Wz"
      },
      "execution_count": null,
      "outputs": []
    },
    {
      "cell_type": "markdown",
      "source": [
        "#### Visualize model info\n",
        "> To do this, we'll use [`torchinfo`](https://github.com/TylerYep/torchinfo)"
      ],
      "metadata": {
        "id": "-vDfdMSa2P6v"
      }
    },
    {
      "cell_type": "code",
      "source": [
        "# install the library\n",
        "!pip install torchinfo\n",
        "# import summary\n",
        "from torchinfo import summary"
      ],
      "metadata": {
        "colab": {
          "base_uri": "https://localhost:8080/"
        },
        "id": "pHhJas_Z2Xne",
        "outputId": "e4b90949-2d96-4d78-e153-06d54535a164"
      },
      "execution_count": 13,
      "outputs": [
        {
          "output_type": "stream",
          "name": "stdout",
          "text": [
            "Collecting torchinfo\n",
            "  Downloading torchinfo-1.8.0-py3-none-any.whl.metadata (21 kB)\n",
            "Downloading torchinfo-1.8.0-py3-none-any.whl (23 kB)\n",
            "Installing collected packages: torchinfo\n",
            "Successfully installed torchinfo-1.8.0\n"
          ]
        }
      ]
    },
    {
      "cell_type": "code",
      "source": [
        "summary(model, input_size=(X_train.shape[1],))"
      ],
      "metadata": {
        "colab": {
          "base_uri": "https://localhost:8080/"
        },
        "id": "keC0cYua2cN8",
        "outputId": "7cfc795b-e668-4a01-f520-4e679db89004"
      },
      "execution_count": 14,
      "outputs": [
        {
          "output_type": "execute_result",
          "data": {
            "text/plain": [
              "==========================================================================================\n",
              "Layer (type:depth-idx)                   Output Shape              Param #\n",
              "==========================================================================================\n",
              "Sequential                               [3]                       --\n",
              "├─Linear: 1-1                            [8]                       40\n",
              "├─ReLU: 1-2                              [8]                       --\n",
              "├─Linear: 1-3                            [8]                       72\n",
              "├─ReLU: 1-4                              [8]                       --\n",
              "├─Linear: 1-5                            [3]                       27\n",
              "==========================================================================================\n",
              "Total params: 139\n",
              "Trainable params: 139\n",
              "Non-trainable params: 0\n",
              "Total mult-adds (Units.MEGABYTES): 0.00\n",
              "==========================================================================================\n",
              "Input size (MB): 0.00\n",
              "Forward/backward pass size (MB): 0.00\n",
              "Params size (MB): 0.00\n",
              "Estimated Total Size (MB): 0.00\n",
              "=========================================================================================="
            ]
          },
          "metadata": {},
          "execution_count": 14
        }
      ]
    },
    {
      "cell_type": "markdown",
      "source": [
        "### Early stopping\n",
        "> 💎 **Pro Tip**\n",
        "\n",
        "> [Early stopping](https://www.linkedin.com/advice/1/what-benefits-drawbacks-early-stopping#:~:text=Early%20stopping%20is%20a%20form,to%20increase%20or%20stops%20improving.) is a mechanism of stopping training when the validation loss stops improving; with a view to preventing _overfitting_ on the training data\n",
        "+ Here, we'll create a class to take care of _early-stopping_"
      ],
      "metadata": {
        "id": "8Sw7Zhvu2K-1"
      }
    },
    {
      "cell_type": "code",
      "source": [
        "# define a class for early stopping\n",
        "from copy import deepcopy\n",
        "\n",
        "class EarlyStopping:\n",
        "  '''\n",
        "    patience -> the number of epochs to wait after the last improvement\n",
        "                before stopping\n",
        "\n",
        "    counter -> how many epochs have passed since the last improvement\n",
        "\n",
        "    min_delta -> how much of a difference in loss is to be considered\n",
        "          worthy to continue training\n",
        "  '''\n",
        "  def __init__(self, score_type:str, min_delta:float=0.0, patience:int=5):\n",
        "    self.counter = 0\n",
        "    self.patience = patience\n",
        "    self.min_delta = min_delta\n",
        "    self.score_type = score_type\n",
        "    self.best_epoch = None\n",
        "    self.best_score = None\n",
        "    self.best_state_dict = None\n",
        "    self.stop_early = False\n",
        "\n",
        "    if (self.score_type != 'metric') and (self.score_type != 'loss'):\n",
        "      err_msg = 'score_type can only be \"metric\" or \"loss\"'\n",
        "      raise Exception(err_msg)\n",
        "\n",
        "  def __call__(self, model:nn.Module, ep:int, ts_score:float):\n",
        "    if self.best_epoch is None: # for first time:\n",
        "      self.best_epoch = ep # store current epoch\n",
        "      self.best_score = ts_score # store current loss as best loss\n",
        "      # make a copy of current model's state_dict\n",
        "      self.best_state_dict = deepcopy(model.state_dict())\n",
        "\n",
        "    # if previous loss - current loss exceeds min_delta: (for loss function)\n",
        "    elif (self.best_score - ts_score >= self.min_delta) and (self.score_type == 'loss'):\n",
        "      self.best_epoch = ep # store current epoch\n",
        "      self.best_score = ts_score # store current loss as best\n",
        "      # make a copy of current model's state_dict\n",
        "      self.best_state_dict = deepcopy(model.state_dict())\n",
        "      self.counter = 0 # restore counter to zero\n",
        "\n",
        "    # if current metric - previous. metric exceeds min_delta: (for metric)\n",
        "    elif (ts_score - self.best_score >= self.min_delta) and (self.score_type == 'metric'):\n",
        "      self.best_epoch = ep # store current epoch\n",
        "      self.best_score = ts_score # store current loss as best\n",
        "      # make a copy of current model's state_dict\n",
        "      self.best_state_dict = deepcopy(model.state_dict())\n",
        "      self.counter = 0 # restore counter to zero\n",
        "\n",
        "    else: # otherwise\n",
        "      self.counter += 1 # increment counter each time\n",
        "      if self.counter >= self.patience:\n",
        "        self.stop_early = True\n"
      ],
      "metadata": {
        "id": "JE1Z8zvJ2MBA"
      },
      "execution_count": 15,
      "outputs": []
    },
    {
      "cell_type": "markdown",
      "source": [
        "### Loss function and optimizer\n",
        "> ✋ **Info**\n",
        "+ Since this is a _multi-class classification_ problem, we'll use [`nn.CrossEntropyLoss`](https://pytorch.org/docs/stable/generated/torch.nn.CrossEntropyLoss.html#crossentropyloss) as the loss function  \n",
        "+ Also, we'll use [`torch.optim.Adam`](https://pytorch.org/docs/stable/generated/torch.optim.Adam.html#adam) as optimizer"
      ],
      "metadata": {
        "id": "WEkBSmiA_F7A"
      }
    },
    {
      "cell_type": "markdown",
      "source": [
        "> 📝 **Note**\n",
        "\n",
        "> [`nn.CrossEntropyLoss`](https://pytorch.org/docs/stable/generated/torch.nn.CrossEntropyLoss.html#crossentropyloss) criterion computes the cross entropy loss between input [**`logits`**](https://www.linkedin.com/pulse/understanding-logits-fundamental-concept-machine-aina-temiloluwa-7d3ff#:~:text=Logits%20are%20a%20fundamental%20concept,it%20is%20transformed%20into%20probabilities.) and target"
      ],
      "metadata": {
        "id": "4Ag8h-nN4DGB"
      }
    },
    {
      "cell_type": "code",
      "source": [
        "# loss function\n",
        "loss_fn = nn.CrossEntropyLoss()\n",
        "\n",
        "# optimizer\n",
        "opt = torch.optim.Adam(model.parameters(), # model parameters\n",
        "                       lr=0.001) # learning rate"
      ],
      "metadata": {
        "id": "_6mTtnO0_H1D"
      },
      "execution_count": 16,
      "outputs": []
    },
    {
      "cell_type": "markdown",
      "source": [
        "### Model training\n",
        "> Here, we'll write a loop for training and validation"
      ],
      "metadata": {
        "id": "zwBwblUc2jR6"
      }
    },
    {
      "cell_type": "code",
      "source": [
        "# declare empty lists to store epoch, train & test loss, f1_score\n",
        "train_losses, test_losses, ep_list, train_f1, test_f1 = [], [], [], [], []\n",
        "# epochs\n",
        "epochs = 200\n",
        "\n",
        "# instantiate early stopping object\n",
        "esp = EarlyStopping(patience=10, score_type='metric')"
      ],
      "metadata": {
        "id": "FUet_1ep2tDZ"
      },
      "execution_count": 17,
      "outputs": []
    },
    {
      "cell_type": "code",
      "source": [
        "# import sklearn's f1 score\n",
        "from sklearn.metrics import f1_score\n",
        "\n",
        "# define training and testing functions\n",
        "def training_fn(model, optimizer, loss_fn, dataloader) -> Tuple[float, float]:\n",
        "  # empty lists to store f1_score and loss\n",
        "  tr_f1, tr_ls = [], []\n",
        "  # set model in training mode\n",
        "  model.train()\n",
        "  for x_train, y_train in dataloader: # for each batch in training DataLoader:\n",
        "    # zero_grad\n",
        "    opt.zero_grad()\n",
        "\n",
        "    # forward pass\n",
        "    logits = model(x_train)\n",
        "\n",
        "    # Softmax activation function (since this is multiclass classification)\n",
        "    # (to convert logits -> prediction probabilities)\n",
        "    # followed by self.argmax to find the highest class probability\n",
        "    y_preds = F.softmax(model(x_train), dim=1).argmax(dim=1)\n",
        "    tr_f1.append(f1_score(y_true=y_train.cpu().numpy(), # tensor -> ndarray\n",
        "                          y_pred=y_preds.cpu().numpy(), # tensor -> ndarray\n",
        "                          average='micro'))\n",
        "\n",
        "    # loss\n",
        "    loss = loss_fn(logits, y_train)\n",
        "    tr_ls.append(loss.item())\n",
        "\n",
        "    # back propagation\n",
        "    loss.backward()\n",
        "\n",
        "    # gradient descent\n",
        "    optimizer.step()\n",
        "\n",
        "  # average training loss\n",
        "  mean_train_loss, mean_train_f1 = np.mean(tr_ls), np.mean(tr_f1)\n",
        "\n",
        "  return mean_train_loss, mean_train_f1\n",
        "\n",
        "def testing_fn(model, loss_fn, dataloader) -> Tuple[float, float]:\n",
        "  # empty lists to store f1_score and loss\n",
        "  ts_f1, ts_ls = [], []\n",
        "  # set model in eval mode\n",
        "  model.eval()\n",
        "  for x_test, y_test in dataloader:\n",
        "    # make predictions\n",
        "    logits = model(x_test)\n",
        "\n",
        "    # loss\n",
        "    loss = loss_fn(logits, y_test)\n",
        "    # Softmax activation function (since this is multiclass classification)\n",
        "    # (to convert logits -> prediction probabilities)\n",
        "    # followed by self.argmax to find the highest class probability\n",
        "    y_preds = F.softmax(model(x_test), dim=1).argmax(dim=1)\n",
        "\n",
        "    ts_ls.append(loss.item())\n",
        "    ts_f1.append(f1_score(y_true=y_test.cpu().numpy(),\n",
        "                          y_pred=y_preds.cpu().numpy(),\n",
        "                          average='micro'))\n",
        "\n",
        "  mean_test_f1, mean_test_ls = np.mean(ts_f1), np.mean(ts_ls)\n",
        "\n",
        "  return mean_test_ls, mean_test_f1"
      ],
      "metadata": {
        "id": "6cUhvSvF8LLY"
      },
      "execution_count": 18,
      "outputs": []
    },
    {
      "cell_type": "code",
      "source": [
        "%%time\n",
        "torch.manual_seed(42)\n",
        "torch.cuda.manual_seed(42)\n",
        "\n",
        "for ep in range(1, epochs+1):\n",
        "  # train\n",
        "  tr_loss, tr_f1 = training_fn(model, opt, loss_fn, train_loader)\n",
        "  # test\n",
        "  ts_loss, ts_f1, = testing_fn(model, loss_fn, test_loader)\n",
        "\n",
        "  # store returned metrics in appropriate lists\n",
        "  train_losses.append(tr_loss)\n",
        "  test_losses.append(ts_loss)\n",
        "  train_f1.append(tr_f1)\n",
        "  test_f1.append(ts_f1)\n",
        "  ep_list.append(ep) # append epoch\n",
        "\n",
        "  # print progress for each epoch\n",
        "  if ep%5 == 0:\n",
        "    print(f'Epoch: {ep} | Train Loss: {tr_loss:.4f} | Test Loss: {ts_loss:.4f}')\n",
        "\n",
        "  # early stopping (based on f1_score classification metric)\n",
        "  esp(model, ep=ep, ts_score=ts_f1)\n",
        "  if esp.stop_early == True:\n",
        "    break # break training loop if early stopping is triggered\n",
        "\n",
        "# at the end of optimization loop:\n",
        "print(f'\\nSTOPPED | Best Epoch: {esp.best_epoch} | Best f1-score: {esp.best_score:.4f}\\n')"
      ],
      "metadata": {
        "id": "p2Zc03203DjB",
        "colab": {
          "base_uri": "https://localhost:8080/"
        },
        "outputId": "2ed52294-d01d-4cd3-86ab-1e27414cec0b"
      },
      "execution_count": 19,
      "outputs": [
        {
          "output_type": "stream",
          "name": "stdout",
          "text": [
            "Epoch: 5 | Train Loss: 1.1100 | Test Loss: 1.1135\n",
            "Epoch: 10 | Train Loss: 1.1043 | Test Loss: 1.1019\n",
            "Epoch: 15 | Train Loss: 1.0851 | Test Loss: 1.0831\n",
            "Epoch: 20 | Train Loss: 1.0470 | Test Loss: 1.0471\n",
            "Epoch: 25 | Train Loss: 0.9929 | Test Loss: 0.9873\n",
            "Epoch: 30 | Train Loss: 0.9051 | Test Loss: 0.9030\n",
            "Epoch: 35 | Train Loss: 0.7481 | Test Loss: 0.7418\n",
            "Epoch: 40 | Train Loss: 0.6050 | Test Loss: 0.6175\n",
            "Epoch: 45 | Train Loss: 0.5263 | Test Loss: 0.5331\n",
            "Epoch: 50 | Train Loss: 0.4485 | Test Loss: 0.4753\n",
            "Epoch: 55 | Train Loss: 0.4208 | Test Loss: 0.4351\n",
            "Epoch: 60 | Train Loss: 0.3882 | Test Loss: 0.3962\n",
            "Epoch: 65 | Train Loss: 0.3392 | Test Loss: 0.3627\n",
            "Epoch: 70 | Train Loss: 0.3069 | Test Loss: 0.3347\n",
            "Epoch: 75 | Train Loss: 0.2890 | Test Loss: 0.3106\n",
            "Epoch: 80 | Train Loss: 0.2676 | Test Loss: 0.2897\n",
            "Epoch: 85 | Train Loss: 0.2363 | Test Loss: 0.2716\n",
            "\n",
            "STOPPED | Best Epoch: 76 | Best f1-score: 0.9643\n",
            "\n",
            "CPU times: user 3.09 s, sys: 116 ms, total: 3.21 s\n",
            "Wall time: 3.54 s\n"
          ]
        }
      ]
    },
    {
      "cell_type": "markdown",
      "source": [
        "> 📝 **Note**  \n",
        "> The _early-stopping_ mechanism uses a classification metric, `f1_score` since in this case, it would be better at monitoring overfitting as opposed to the `CrossEntropyLoss`"
      ],
      "metadata": {
        "id": "WBe-kCyc_VtQ"
      }
    },
    {
      "cell_type": "markdown",
      "source": [
        "### Model evaluation\n",
        "> Here, we'll evaluate the model by plotting loss curves from the optimization loop, as well as analysing various classification metrics.  \n",
        "\n",
        "> ❗ **Disclaimer**\n",
        "+ I'll be using [scikit-learn's classification metrics](https://scikit-learn.org/stable/api/sklearn.metrics.html#classification-metrics)\n",
        "+ Check out my previous GitHub repository on evaluation of classification models using scikit-learn on the link provided [here](https://github.com/Martinmbiro/Imbalanced-Datasets-and-Evaluating-Classification-Models)"
      ],
      "metadata": {
        "id": "mMWqYhd94KXN"
      }
    },
    {
      "cell_type": "code",
      "source": [
        "# overwrite model with best model's state_dict\n",
        "model.load_state_dict(esp.best_state_dict)\n",
        "\n",
        "# return y_preds & y_proba as numpy arrays\n",
        "with  torch.inference_mode():\n",
        "  model.eval()\n",
        "  y_preds = F.softmax(model(X_test.to(device)), dim=1).argmax(dim=1).cpu().numpy()\n",
        "  y_proba = F.softmax(model(X_test.to(device)), dim=1).cpu().numpy()"
      ],
      "metadata": {
        "id": "74ofB9H69nua"
      },
      "execution_count": 20,
      "outputs": []
    },
    {
      "cell_type": "code",
      "source": [
        "# function to plot train and test results\n",
        "def plot_train_results(ep_list:list, train_score:list, test_score:list,\n",
        "                       best_epoch:int, ylabel, title:str):\n",
        "  f, ax = plt.subplots(figsize=(5, 3), layout='constrained')\n",
        "\n",
        "  # train loss\n",
        "  ax.plot(ep_list, train_score, label='Training',\n",
        "          linewidth=1.7, color='#0047ab')\n",
        "\n",
        "  # test loss\n",
        "  ax.plot(ep_list, test_score, label='Validation',\n",
        "          linewidth=1.7, color='#990000')\n",
        "  # vertical line (for early stopping)\n",
        "  if best_epoch is not None:\n",
        "    ax.axvline(best_epoch, linestyle='--', color='#000000', linewidth=1.0,\n",
        "             label=f'Best ep ({best_epoch})')\n",
        "\n",
        "  # axis, title\n",
        "  ax.set_title(title, weight='black')\n",
        "  ax.set_ylabel(ylabel)\n",
        "  ax.set_xlabel('Epoch')\n",
        "  ax.tick_params(axis='both', labelsize=9)\n",
        "  plt.grid(color='#e5e4e2')\n",
        "\n",
        "  # legend\n",
        "  f.legend(fontsize=9, loc='upper right',\n",
        "          bbox_to_anchor=(1.28, 0.93),\n",
        "          fancybox=False)\n",
        "\n",
        "  plt.show()"
      ],
      "metadata": {
        "id": "dTcKmMzr57cr"
      },
      "execution_count": 21,
      "outputs": []
    },
    {
      "cell_type": "code",
      "source": [
        "# function to plot confusion matrix\n",
        "from sklearn.metrics import ConfusionMatrixDisplay\n",
        "\n",
        "def plot_confusion_matrix(y_true:np.ndarray, y_pred:np.ndarray):\n",
        "  # axes for plotting\n",
        "  _, ax = plt.subplots(figsize=(3.0,3.0), layout='constrained')\n",
        "\n",
        "  ConfusionMatrixDisplay.from_predictions(\n",
        "      y_true=y_true,\n",
        "      y_pred=y_preds, cmap='Blues',\n",
        "      colorbar=False, ax=ax)\n",
        "\n",
        "  # xaxis position\n",
        "  ax.xaxis.set_label_position('top')\n",
        "  ax.xaxis.tick_top()\n",
        "\n",
        "  # labels\n",
        "  ax.set_ylabel('True Labels', weight='black')\n",
        "  ax.set_xlabel('Predicted Labels', weight='black',\n",
        "                color='#dc143c')\n",
        "\n",
        "  plt.show()"
      ],
      "metadata": {
        "id": "JkYFwHpo8NB6"
      },
      "execution_count": 22,
      "outputs": []
    },
    {
      "cell_type": "code",
      "source": [
        "# function to plot multiclass ROC curve (One vs Rest apporach)\n",
        "from sklearn.preprocessing import label_binarize\n",
        "from sklearn.metrics import roc_curve\n",
        "from sklearn.metrics import roc_auc_score\n",
        "from sklearn.metrics import auc\n",
        "\n",
        "def plot_multiclass_roc_curve(y_true:np.ndarray, y_proba:np.ndarray):\n",
        "  # binarize y_pred\n",
        "  y_bin = label_binarize(y=y_true, classes=y.unique())\n",
        "\n",
        "  # plot and figure\n",
        "  fig, ax = plt.subplots(figsize=(4.0, 3.5), layout='constrained')\n",
        "\n",
        "  for i in (range(len(y.unique()))):\n",
        "    # calculate roc_curve\n",
        "    fpr, tpr, t = roc_curve(y_bin[:, i], y_proba[:, i])\n",
        "    # roc_auc_score\n",
        "    auc_sc = auc(fpr, tpr)\n",
        "\n",
        "    # plot\n",
        "    ax.plot(fpr, tpr, linestyle='-', linewidth=1.7,\n",
        "            label=f'Class {i} vs rest (AUC = {auc_sc:.3f})')\n",
        "\n",
        "  # title, labels\n",
        "  ax.set_ylabel('True Positive Rate (tpr)')\n",
        "  ax.set_xlabel('False Positive Rate (fpr)')\n",
        "  ax.set_title('Multiclass ROC Curve (OvR)', weight='black')\n",
        "\n",
        "  fig.legend(fontsize=9,\n",
        "        loc='upper right',\n",
        "        bbox_to_anchor=(1.65, 0.94),\n",
        "        fancybox=False)\n",
        "\n",
        "  plt.show()"
      ],
      "metadata": {
        "id": "6Nvc0mM-5oak"
      },
      "execution_count": 23,
      "outputs": []
    },
    {
      "cell_type": "markdown",
      "source": [
        "#### Plot loss curves"
      ],
      "metadata": {
        "id": "n4Q8H-UK7sRr"
      }
    },
    {
      "cell_type": "code",
      "source": [
        "# plot losses across epochs\n",
        "plot_train_results(ep_list=ep_list, train_score=train_losses,\n",
        "          test_score=test_losses, best_epoch=esp.best_epoch,\n",
        "          ylabel='Cross Entropy Loss',\n",
        "          title='Training and Validation Loss across Epochs')"
      ],
      "metadata": {
        "colab": {
          "base_uri": "https://localhost:8080/",
          "height": 328
        },
        "id": "DKlL8hcZ74EY",
        "outputId": "b6dc90e2-019b-4788-ae1d-ad4c7fbd72de"
      },
      "execution_count": 24,
      "outputs": [
        {
          "output_type": "display_data",
          "data": {
            "text/plain": [
              "<Figure size 500x300 with 1 Axes>"
            ],
            "image/png": "[encoded data removed]"
          },
          "metadata": {}
        }
      ]
    },
    {
      "cell_type": "markdown",
      "source": [
        "#### Plot [`f1_score`](https://scikit-learn.org/stable/modules/generated/sklearn.metrics.f1_score.html) across epochs\n",
        "> ✋ **Info**  \n",
        "+ Since this is a multi-class classification problem, and there's no positive and negative class, I chose `f1_score` as it's the _harmonic mean_ of the [`recall_score`](https://scikit-learn.org/stable/modules/generated/sklearn.metrics.recall_score.html#recall-score) and [`precision_score`](https://scikit-learn.org/stable/modules/generated/sklearn.metrics.precision_score.html)"
      ],
      "metadata": {
        "id": "FW-U4mw9APuk"
      }
    },
    {
      "cell_type": "code",
      "source": [
        "# plot f1 scores across epochs\n",
        "plot_train_results(ep_list=ep_list, train_score=train_f1, test_score=test_f1,\n",
        "            ylabel='F1-score',\n",
        "            title='Train and Validation F1-Scores across Epochs',\n",
        "            best_epoch=esp.best_epoch, )"
      ],
      "metadata": {
        "colab": {
          "base_uri": "https://localhost:8080/",
          "height": 328
        },
        "id": "O5jDzyPEBSCv",
        "outputId": "ff2e9efa-772c-44e3-a69f-4619ebaeec54"
      },
      "execution_count": 25,
      "outputs": [
        {
          "output_type": "display_data",
          "data": {
            "text/plain": [
              "<Figure size 500x300 with 1 Axes>"
            ],
            "image/png": "[encoded data removed]"
          },
          "metadata": {}
        }
      ]
    },
    {
      "cell_type": "markdown",
      "source": [
        "#### [`accuracy_score`](https://scikit-learn.org/stable/modules/generated/sklearn.metrics.accuracy_score.html#accuracy-score)"
      ],
      "metadata": {
        "id": "z5xRkXBE6iM1"
      }
    },
    {
      "cell_type": "code",
      "source": [
        "from sklearn.metrics import accuracy_score\n",
        "\n",
        "acc = accuracy_score(y_true=y_test.numpy(),\n",
        "                     y_pred=y_preds)\n",
        "# print\n",
        "print(f'Model Accuracy: {acc:.4f}')"
      ],
      "metadata": {
        "id": "s3QKieVi4XJX",
        "colab": {
          "base_uri": "https://localhost:8080/"
        },
        "outputId": "e4430d03-d018-4dff-ddec-efae0e4240ea"
      },
      "execution_count": 26,
      "outputs": [
        {
          "output_type": "stream",
          "name": "stdout",
          "text": [
            "Model Accuracy: 0.9667\n"
          ]
        }
      ]
    },
    {
      "cell_type": "markdown",
      "source": [
        "#### [`classification_report`](https://scikit-learn.org/stable/modules/generated/sklearn.metrics.classification_report.html#classification-report)"
      ],
      "metadata": {
        "id": "J7cdkdDN9YTG"
      }
    },
    {
      "cell_type": "code",
      "source": [
        "from sklearn.metrics import classification_report\n",
        "\n",
        "cr = classification_report(y_true=y_test.numpy(),\n",
        "                           y_pred=y_preds,\n",
        "                           zero_division=np.nan)\n",
        "# print\n",
        "print(cr)"
      ],
      "metadata": {
        "colab": {
          "base_uri": "https://localhost:8080/"
        },
        "id": "zxdh0eeG9cnk",
        "outputId": "9dafe6c4-0cbd-4be7-cbe9-f8944a933b5b"
      },
      "execution_count": 27,
      "outputs": [
        {
          "output_type": "stream",
          "name": "stdout",
          "text": [
            "              precision    recall  f1-score   support\n",
            "\n",
            "           0       1.00      1.00      1.00        10\n",
            "           1       1.00      0.90      0.95        10\n",
            "           2       0.91      1.00      0.95        10\n",
            "\n",
            "    accuracy                           0.97        30\n",
            "   macro avg       0.97      0.97      0.97        30\n",
            "weighted avg       0.97      0.97      0.97        30\n",
            "\n"
          ]
        }
      ]
    },
    {
      "cell_type": "markdown",
      "source": [
        "#### [`confusion_matrix`](https://scikit-learn.org/stable/modules/generated/sklearn.metrics.confusion_matrix.html)"
      ],
      "metadata": {
        "id": "f7YoU714CoXs"
      }
    },
    {
      "cell_type": "code",
      "source": [
        "# plot confusion matrix\n",
        "plot_confusion_matrix(y_true=y_test.numpy(), # tensor -> numpy\n",
        "                      y_pred=y_preds)"
      ],
      "metadata": {
        "colab": {
          "base_uri": "https://localhost:8080/",
          "height": 328
        },
        "id": "6_wsp-rmCjC2",
        "outputId": "26df5822-6d06-412d-e025-08a54c3b5bea"
      },
      "execution_count": 28,
      "outputs": [
        {
          "output_type": "display_data",
          "data": {
            "text/plain": [
              "<Figure size 300x300 with 1 Axes>"
            ],
            "image/png": "[encoded data removed]"
          },
          "metadata": {}
        }
      ]
    },
    {
      "cell_type": "markdown",
      "source": [
        "#### `roc` curve (OvR Multiclass approach)\n",
        "> ✋ **Info**\n",
        "+ An ROC curve is a graph that shows how well a classification model performs in distinguishing between classes (usually a binary classification task between a positive class, `1` and negative class `0`)\n",
        "+ For insight on the intuition behind a multi-class ROC curve (OvR approach), follow the link to a previous GitHub repository [`here`](https://github.com/Martinmbiro/Crop-Recommendation---a-classification-problem/blob/main/03%20Modelling%20%26%20Evaluation.ipynb)"
      ],
      "metadata": {
        "id": "I7YiljXZ5tjQ"
      }
    },
    {
      "cell_type": "code",
      "source": [
        "# plot roc_curve\n",
        "plot_multiclass_roc_curve(y_true=y_test.numpy(),\n",
        "                          y_proba=y_proba)"
      ],
      "metadata": {
        "colab": {
          "base_uri": "https://localhost:8080/",
          "height": 378
        },
        "id": "XXfi91qe52bb",
        "outputId": "6e06161d-4e02-40df-fbe4-3d6a1ef32335"
      },
      "execution_count": 29,
      "outputs": [
        {
          "output_type": "display_data",
          "data": {
            "text/plain": [
              "<Figure size 400x350 with 1 Axes>"
            ],
            "image/png": "[encoded data removed]"
          },
          "metadata": {}
        }
      ]
    },
    {
      "cell_type": "markdown",
      "source": [
        "#### Overall [`roc_auc_score`](https://scikit-learn.org/stable/modules/generated/sklearn.metrics.roc_auc_score.html#roc-auc-score)\n",
        "> ✋ **Info**\n",
        "+ The AUC metric is a single value that measures the performance of a model by representing the probability that a model will rank a randomly chosen positive example higher than a negative one."
      ],
      "metadata": {
        "id": "i-FkMCIO_-FZ"
      }
    },
    {
      "cell_type": "code",
      "source": [
        "# calculate roc_auc_score (for multiclass classification)\n",
        "ras = roc_auc_score(y_true=y_test.numpy(),\n",
        "                    y_score=y_proba,\n",
        "                    multi_class='ovr')\n",
        "# print\n",
        "print(f'roc_auc_score: {ras:.4f}')"
      ],
      "metadata": {
        "colab": {
          "base_uri": "https://localhost:8080/"
        },
        "id": "L2rFB3QhAmEn",
        "outputId": "0dbeab5f-6779-414d-cfee-651676739c7f"
      },
      "execution_count": 30,
      "outputs": [
        {
          "output_type": "stream",
          "name": "stdout",
          "text": [
            "roc_auc_score: 0.9933\n"
          ]
        }
      ]
    },
    {
      "cell_type": "markdown",
      "source": [
        "### Saving the model\n",
        "> I'll be using the [`pathlib`](https://docs.python.org/3/library/pathlib.html) libary to create a path. Also, we'll be following the recommended way of saving a model from Pytorch's documentation lined [`here`](https://pytorch.org/tutorials/beginner/saving_loading_models.html#save-load-state-dict-recommended)"
      ],
      "metadata": {
        "id": "wbiP89vtGDtP"
      }
    },
    {
      "cell_type": "code",
      "source": [
        "# import Pathlib\n",
        "from pathlib import Path\n",
        "\n",
        "# parent directory\n",
        "PARENT = Path('models')\n",
        "PARENT.mkdir(parents=True, exist_ok=True)\n",
        "\n",
        "# model path\n",
        "MODEL_PATH = PARENT/'iris_model.pth'\n",
        "print(MODEL_PATH)"
      ],
      "metadata": {
        "colab": {
          "base_uri": "https://localhost:8080/"
        },
        "id": "_Hxj_0CXGGpu",
        "outputId": "3929b0d1-f7b3-4003-a003-64ae31861c59"
      },
      "execution_count": 33,
      "outputs": [
        {
          "output_type": "stream",
          "name": "stdout",
          "text": [
            "models/iris_model.pth\n"
          ]
        }
      ]
    },
    {
      "cell_type": "code",
      "source": [
        "# save model's state_dict\n",
        "torch.save(model.cpu().state_dict(), MODEL_PATH)\n",
        "print(f\"MODEL'S state_dict saved to: {MODEL_PATH}\")"
      ],
      "metadata": {
        "colab": {
          "base_uri": "https://localhost:8080/"
        },
        "id": "0lrw9k2rG4ie",
        "outputId": "a228341c-f54d-412f-b3ed-e520ca95dd3c"
      },
      "execution_count": 34,
      "outputs": [
        {
          "output_type": "stream",
          "name": "stdout",
          "text": [
            "MODEL'S state_dict saved to: models/iris_model.pth\n"
          ]
        }
      ]
    },
    {
      "cell_type": "markdown",
      "source": [
        "#### Loading the model\n",
        "> Pytorch's recommended way of loading saved model's `state_dict` is linked [`here`](https://pytorch.org/tutorials/beginner/saving_loading_models.html#save-load-state-dict-recommended)"
      ],
      "metadata": {
        "id": "p3TlwfAbKD5N"
      }
    },
    {
      "cell_type": "code",
      "source": [
        "# create a model object\n",
        "loaded_model = get_model(device)\n",
        "\n",
        "# overwrite stat_dict\n",
        "loaded_model.load_state_dict(\n",
        "    torch.load(f=MODEL_PATH, weights_only=True))"
      ],
      "metadata": {
        "colab": {
          "base_uri": "https://localhost:8080/"
        },
        "id": "houZFIdXKRVK",
        "outputId": "43b18192-a056-4ba4-f9c9-dd6f07f3c211"
      },
      "execution_count": 37,
      "outputs": [
        {
          "output_type": "execute_result",
          "data": {
            "text/plain": [
              "<All keys matched successfully>"
            ]
          },
          "metadata": {},
          "execution_count": 37
        }
      ]
    },
    {
      "cell_type": "markdown",
      "source": [
        "### Conclusion"
      ],
      "metadata": {
        "id": "gFmptZLwcmx2"
      }
    },
    {
      "cell_type": "markdown",
      "source": [
        "> 👏 **Bam!**  \n",
        "\n",
        "> Based on the overall classification metrics, the model's performance seems incredible! We were able to achieve the following (on a scale of `0` -> `1`):\n",
        "+ A weighted `precision`, `recall` and `f1_score` of `0.97`\n",
        "+ An overall model accuracy of `0.9667`\n",
        "+ An overall `roc_auc_score` of `0.9933`"
      ],
      "metadata": {
        "id": "ZUfTC6Npa6Ul"
      }
    },
    {
      "cell_type": "markdown",
      "source": [
        "> ❗ **Disclaimer**\n",
        "+ In this exercise, we're dealing with tabular data. However, neural networks are generally preferred while working with unstructured data such as photos, text and audio.\n",
        "+ This has just been a demonstration, since it might be easier to grasp and visualize.\n",
        "+ However, tree based models such as `RandomForestClassifier`, `xgboost` and `catboost` offer incredible performance for structured (tabular) data. See how I demonstrate working with these models in my repositories linked [`here`](https://github.com/Martinmbiro/Crop-Recommendation---a-classification-problem), [`here`](https://github.com/Martinmbiro/Gradient-Boosting-with-CatBoost-for-Classification), [`here`](https://github.com/Martinmbiro/Yield-Estimation---a-regression-problem) and [`here`](https://github.com/Martinmbiro/Train-and-evaluate-regression-models)"
      ],
      "metadata": {
        "id": "gjl4_V5sYUvy"
      }
    },
    {
      "cell_type": "markdown",
      "source": [
        "> ▶ **Up Next**\n",
        "+ Pytorch [Computer Vision](https://www.ibm.com/think/topics/computer-vision#:~:text=Computer%20vision%20is%20a%20field,they%20see%20defects%20or%20issues.)\n",
        "\n",
        "> Until next time 👋"
      ],
      "metadata": {
        "id": "CuOg5mxJWau6"
      }
    }
  ]
}